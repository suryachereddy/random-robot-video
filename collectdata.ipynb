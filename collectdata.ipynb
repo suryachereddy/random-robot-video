{
 "cells": [
  {
   "cell_type": "code",
   "execution_count": 1,
   "metadata": {},
   "outputs": [
    {
     "name": "stdout",
     "output_type": "stream",
     "text": [
      "Unable to load module hid, required to interface with SpaceMouse.\n",
      "\n",
      "           Only Mac OS X is officially supported. Install the additional\n",
      "\n",
      "           requirements with `pip install -r requirements-extra.txt`\n",
      "Warning: make sure gym is installed if you want to use the GymWrapper.\n"
     ]
    }
   ],
   "source": [
    "from simulator.sim import render\n",
    "frames=120\n",
    "trainingsize=200\n",
    "testingsize=40"
   ]
  },
  {
   "cell_type": "code",
   "execution_count": 2,
   "metadata": {},
   "outputs": [],
   "source": [
    "robots = [\"Jaco\",\"IIWA\",\"Sawyer\",\"Panda\"]"
   ]
  },
  {
   "cell_type": "code",
   "execution_count": 3,
   "metadata": {},
   "outputs": [
    {
     "name": "stdout",
     "output_type": "stream",
     "text": [
      "Robot: Jaco\n",
      "TRAINING DATA:\n"
     ]
    },
    {
     "name": "stderr",
     "output_type": "stream",
     "text": [
      "100%|██████████| 200/200 [44:08<00:00, 13.24s/it]\n"
     ]
    },
    {
     "name": "stdout",
     "output_type": "stream",
     "text": [
      "TESTING DATA:\n"
     ]
    },
    {
     "name": "stderr",
     "output_type": "stream",
     "text": [
      "100%|██████████| 40/40 [09:16<00:00, 13.92s/it]\n"
     ]
    },
    {
     "name": "stdout",
     "output_type": "stream",
     "text": [
      "Robot: IIWA\n",
      "TRAINING DATA:\n"
     ]
    },
    {
     "name": "stderr",
     "output_type": "stream",
     "text": [
      "100%|██████████| 200/200 [1:06:34<00:00, 19.97s/it]\n"
     ]
    },
    {
     "name": "stdout",
     "output_type": "stream",
     "text": [
      "TESTING DATA:\n"
     ]
    },
    {
     "name": "stderr",
     "output_type": "stream",
     "text": [
      "100%|██████████| 40/40 [21:13<00:00, 31.83s/it] \n"
     ]
    },
    {
     "name": "stdout",
     "output_type": "stream",
     "text": [
      "Robot: Sawyer\n",
      "TRAINING DATA:\n"
     ]
    },
    {
     "name": "stderr",
     "output_type": "stream",
     "text": [
      "100%|██████████| 200/200 [47:56<00:00, 14.38s/it]\n"
     ]
    },
    {
     "name": "stdout",
     "output_type": "stream",
     "text": [
      "TESTING DATA:\n"
     ]
    },
    {
     "name": "stderr",
     "output_type": "stream",
     "text": [
      "100%|██████████| 40/40 [10:38<00:00, 15.96s/it]\n"
     ]
    },
    {
     "name": "stdout",
     "output_type": "stream",
     "text": [
      "Robot: Panda\n",
      "TRAINING DATA:\n"
     ]
    },
    {
     "name": "stderr",
     "output_type": "stream",
     "text": [
      "100%|██████████| 200/200 [46:12<00:00, 13.86s/it]\n"
     ]
    },
    {
     "name": "stdout",
     "output_type": "stream",
     "text": [
      "TESTING DATA:\n"
     ]
    },
    {
     "name": "stderr",
     "output_type": "stream",
     "text": [
      "100%|██████████| 40/40 [09:26<00:00, 14.16s/it]\n"
     ]
    }
   ],
   "source": [
    "for r in robots:\n",
    "    print(\"Robot:\",r)\n",
    "    robot=render()\n",
    "    print(\"TRAINING DATA:\")\n",
    "    robot.randomAction(robot=r,render=False,frames=frames,debug=False,tests=trainingsize,save_path=f\"./robotvideos_train/{r}\")\n",
    "    print(\"TESTING DATA:\")\n",
    "    robot.randomAction(robot=r,render=False,frames=frames,debug=False,tests=testingsize,save_path=f\"./robotvideos_test/{r}\")"
   ]
  },
  {
   "cell_type": "code",
   "execution_count": null,
   "metadata": {},
   "outputs": [],
   "source": []
  }
 ],
 "metadata": {
  "interpreter": {
   "hash": "4936e5f0261a2e7a098afdfc15cd8b3cb22a447473a707c8ad121a06dfc0f60e"
  },
  "kernelspec": {
   "display_name": "Python 3.8.0 ('jaco')",
   "language": "python",
   "name": "python3"
  },
  "language_info": {
   "codemirror_mode": {
    "name": "ipython",
    "version": 3
   },
   "file_extension": ".py",
   "mimetype": "text/x-python",
   "name": "python",
   "nbconvert_exporter": "python",
   "pygments_lexer": "ipython3",
   "version": "3.8.0"
  },
  "orig_nbformat": 4
 },
 "nbformat": 4,
 "nbformat_minor": 2
}
