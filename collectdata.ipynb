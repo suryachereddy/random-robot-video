{
 "cells": [
  {
   "cell_type": "code",
   "execution_count": 2,
   "metadata": {},
   "outputs": [
    {
     "name": "stdout",
     "output_type": "stream",
     "text": [
      "Unable to load module hid, required to interface with SpaceMouse.\n",
      "\n",
      "           Only Mac OS X is officially supported. Install the additional\n",
      "\n",
      "           requirements with `pip install -r requirements-extra.txt`\n",
      "Warning: make sure gym is installed if you want to use the GymWrapper.\n"
     ]
    }
   ],
   "source": [
    "from simulator.sim import render\n",
    "frames=120\n",
    "trainingsize=200\n",
    "testingsize=40\n"
   ]
  },
  {
   "cell_type": "code",
   "execution_count": 3,
   "metadata": {},
   "outputs": [],
   "source": [
    "robots = [\"Jaco\",\"IIWA\",\"Sawyer\",\"Panda\"]"
   ]
  },
  {
   "cell_type": "code",
   "execution_count": 4,
   "metadata": {},
   "outputs": [
    {
     "name": "stdout",
     "output_type": "stream",
     "text": [
      "Robot: Jaco\n",
      "TRAINING DATA:\n"
     ]
    },
    {
     "name": "stderr",
     "output_type": "stream",
     "text": [
      "  0%|          | 0/1 [00:05<?, ?it/s]\n"
     ]
    },
    {
     "ename": "KeyboardInterrupt",
     "evalue": "",
     "output_type": "error",
     "traceback": [
      "\u001b[0;31m---------------------------------------------------------------------------\u001b[0m",
      "\u001b[0;31mKeyboardInterrupt\u001b[0m                         Traceback (most recent call last)",
      "\u001b[1;32m/home/surya/src/sim/randomrobotvideo/collectdata.ipynb Cell 3'\u001b[0m in \u001b[0;36m<cell line: 1>\u001b[0;34m()\u001b[0m\n\u001b[1;32m      <a href='vscode-notebook-cell:/home/surya/src/sim/randomrobotvideo/collectdata.ipynb#ch0000002?line=2'>3</a>\u001b[0m robot\u001b[39m=\u001b[39mrender()\n\u001b[1;32m      <a href='vscode-notebook-cell:/home/surya/src/sim/randomrobotvideo/collectdata.ipynb#ch0000002?line=3'>4</a>\u001b[0m \u001b[39mprint\u001b[39m(\u001b[39m\"\u001b[39m\u001b[39mTRAINING DATA:\u001b[39m\u001b[39m\"\u001b[39m)\n\u001b[0;32m----> <a href='vscode-notebook-cell:/home/surya/src/sim/randomrobotvideo/collectdata.ipynb#ch0000002?line=4'>5</a>\u001b[0m robot\u001b[39m.\u001b[39;49mrandomAction(robot\u001b[39m=\u001b[39;49mr,render\u001b[39m=\u001b[39;49m\u001b[39mFalse\u001b[39;49;00m,frames\u001b[39m=\u001b[39;49mframes,debug\u001b[39m=\u001b[39;49m\u001b[39mFalse\u001b[39;49;00m,tests\u001b[39m=\u001b[39;49m\u001b[39m1\u001b[39;49m,save_path\u001b[39m=\u001b[39;49m\u001b[39mf\u001b[39;49m\u001b[39m\"\u001b[39;49m\u001b[39m./forregression\u001b[39;49m\u001b[39m\"\u001b[39;49m)\n\u001b[1;32m      <a href='vscode-notebook-cell:/home/surya/src/sim/randomrobotvideo/collectdata.ipynb#ch0000002?line=5'>6</a>\u001b[0m \u001b[39mprint\u001b[39m(\u001b[39m\"\u001b[39m\u001b[39mTESTING DATA:\u001b[39m\u001b[39m\"\u001b[39m)\n\u001b[1;32m      <a href='vscode-notebook-cell:/home/surya/src/sim/randomrobotvideo/collectdata.ipynb#ch0000002?line=6'>7</a>\u001b[0m robot\u001b[39m.\u001b[39mrandomAction(robot\u001b[39m=\u001b[39mr,render\u001b[39m=\u001b[39m\u001b[39mFalse\u001b[39;00m,frames\u001b[39m=\u001b[39mframes,debug\u001b[39m=\u001b[39m\u001b[39mFalse\u001b[39;00m,tests\u001b[39m=\u001b[39m\u001b[39m1\u001b[39m,save_path\u001b[39m=\u001b[39m\u001b[39mf\u001b[39m\u001b[39m\"\u001b[39m\u001b[39m./robotvideos_test\u001b[39m\u001b[39m\"\u001b[39m)\n",
      "File \u001b[0;32m~/src/sim/randomrobotvideo/simulator/sim.py:187\u001b[0m, in \u001b[0;36mrender.randomAction\u001b[0;34m(self, frames, save_path, render, debug, tests, robot, jointsave, isDomainRandomization, startindex)\u001b[0m\n\u001b[1;32m    <a href='file:///home/surya/src/sim/randomrobotvideo/simulator/sim.py?line=183'>184</a>\u001b[0m \u001b[39m#action[3:6] = vec\u001b[39;00m\n\u001b[1;32m    <a href='file:///home/surya/src/sim/randomrobotvideo/simulator/sim.py?line=185'>186</a>\u001b[0m total_action \u001b[39m=\u001b[39m np\u001b[39m.\u001b[39mtile(action, n)\n\u001b[0;32m--> <a href='file:///home/surya/src/sim/randomrobotvideo/simulator/sim.py?line=186'>187</a>\u001b[0m obs, reward, done, _ \u001b[39m=\u001b[39m \u001b[39mself\u001b[39;49m\u001b[39m.\u001b[39;49menv\u001b[39m.\u001b[39;49mstep(total_action)\n\u001b[1;32m    <a href='file:///home/surya/src/sim/randomrobotvideo/simulator/sim.py?line=187'>188</a>\u001b[0m \u001b[39mif\u001b[39;00m \u001b[39mnot\u001b[39;00m render:\n\u001b[1;32m    <a href='file:///home/surya/src/sim/randomrobotvideo/simulator/sim.py?line=188'>189</a>\u001b[0m     \u001b[39mself\u001b[39m\u001b[39m.\u001b[39mvideoobservation\u001b[39m.\u001b[39mappend(obs[\u001b[39m\"\u001b[39m\u001b[39mfrontview_image\u001b[39m\u001b[39m\"\u001b[39m])\n",
      "File \u001b[0;32m~/miniconda3/envs/jaco/lib/python3.8/site-packages/robosuite/wrappers/domain_randomization_wrapper.py:235\u001b[0m, in \u001b[0;36mDomainRandomizationWrapper.step\u001b[0;34m(self, action)\u001b[0m\n\u001b[1;32m    <a href='file:///home/surya/miniconda3/envs/jaco/lib/python3.8/site-packages/robosuite/wrappers/domain_randomization_wrapper.py?line=222'>223</a>\u001b[0m \u001b[39m\"\"\"\u001b[39;00m\n\u001b[1;32m    <a href='file:///home/surya/miniconda3/envs/jaco/lib/python3.8/site-packages/robosuite/wrappers/domain_randomization_wrapper.py?line=223'>224</a>\u001b[0m \u001b[39mExtends vanilla step() function call to accommodate domain randomization\u001b[39;00m\n\u001b[1;32m    <a href='file:///home/surya/miniconda3/envs/jaco/lib/python3.8/site-packages/robosuite/wrappers/domain_randomization_wrapper.py?line=224'>225</a>\u001b[0m \n\u001b[0;32m   (...)\u001b[0m\n\u001b[1;32m    <a href='file:///home/surya/miniconda3/envs/jaco/lib/python3.8/site-packages/robosuite/wrappers/domain_randomization_wrapper.py?line=231'>232</a>\u001b[0m \u001b[39m        - (dict) misc information\u001b[39;00m\n\u001b[1;32m    <a href='file:///home/surya/miniconda3/envs/jaco/lib/python3.8/site-packages/robosuite/wrappers/domain_randomization_wrapper.py?line=232'>233</a>\u001b[0m \u001b[39m\"\"\"\u001b[39;00m\n\u001b[1;32m    <a href='file:///home/surya/miniconda3/envs/jaco/lib/python3.8/site-packages/robosuite/wrappers/domain_randomization_wrapper.py?line=233'>234</a>\u001b[0m \u001b[39m# Step the internal randomization state\u001b[39;00m\n\u001b[0;32m--> <a href='file:///home/surya/miniconda3/envs/jaco/lib/python3.8/site-packages/robosuite/wrappers/domain_randomization_wrapper.py?line=234'>235</a>\u001b[0m \u001b[39mself\u001b[39;49m\u001b[39m.\u001b[39;49mstep_randomization()\n\u001b[1;32m    <a href='file:///home/surya/miniconda3/envs/jaco/lib/python3.8/site-packages/robosuite/wrappers/domain_randomization_wrapper.py?line=236'>237</a>\u001b[0m \u001b[39mreturn\u001b[39;00m \u001b[39msuper\u001b[39m()\u001b[39m.\u001b[39mstep(action)\n",
      "File \u001b[0;32m~/miniconda3/envs/jaco/lib/python3.8/site-packages/robosuite/wrappers/domain_randomization_wrapper.py:246\u001b[0m, in \u001b[0;36mDomainRandomizationWrapper.step_randomization\u001b[0;34m(self)\u001b[0m\n\u001b[1;32m    <a href='file:///home/surya/miniconda3/envs/jaco/lib/python3.8/site-packages/robosuite/wrappers/domain_randomization_wrapper.py?line=243'>244</a>\u001b[0m \u001b[39mif\u001b[39;00m \u001b[39mself\u001b[39m\u001b[39m.\u001b[39mrandomize_every_n_steps \u001b[39m>\u001b[39m \u001b[39m0\u001b[39m:\n\u001b[1;32m    <a href='file:///home/surya/miniconda3/envs/jaco/lib/python3.8/site-packages/robosuite/wrappers/domain_randomization_wrapper.py?line=244'>245</a>\u001b[0m     \u001b[39mif\u001b[39;00m \u001b[39mself\u001b[39m\u001b[39m.\u001b[39mstep_counter \u001b[39m%\u001b[39m \u001b[39mself\u001b[39m\u001b[39m.\u001b[39mrandomize_every_n_steps \u001b[39m==\u001b[39m \u001b[39m0\u001b[39m:\n\u001b[0;32m--> <a href='file:///home/surya/miniconda3/envs/jaco/lib/python3.8/site-packages/robosuite/wrappers/domain_randomization_wrapper.py?line=245'>246</a>\u001b[0m         \u001b[39mself\u001b[39;49m\u001b[39m.\u001b[39;49mrandomize_domain()\n\u001b[1;32m    <a href='file:///home/surya/miniconda3/envs/jaco/lib/python3.8/site-packages/robosuite/wrappers/domain_randomization_wrapper.py?line=246'>247</a>\u001b[0m \u001b[39mself\u001b[39m\u001b[39m.\u001b[39mstep_counter \u001b[39m+\u001b[39m\u001b[39m=\u001b[39m \u001b[39m1\u001b[39m\n",
      "File \u001b[0;32m~/miniconda3/envs/jaco/lib/python3.8/site-packages/robosuite/wrappers/domain_randomization_wrapper.py:254\u001b[0m, in \u001b[0;36mDomainRandomizationWrapper.randomize_domain\u001b[0;34m(self)\u001b[0m\n\u001b[1;32m    <a href='file:///home/surya/miniconda3/envs/jaco/lib/python3.8/site-packages/robosuite/wrappers/domain_randomization_wrapper.py?line=249'>250</a>\u001b[0m \u001b[39m\"\"\"\u001b[39;00m\n\u001b[1;32m    <a href='file:///home/surya/miniconda3/envs/jaco/lib/python3.8/site-packages/robosuite/wrappers/domain_randomization_wrapper.py?line=250'>251</a>\u001b[0m \u001b[39mRuns domain randomization over the environment.\u001b[39;00m\n\u001b[1;32m    <a href='file:///home/surya/miniconda3/envs/jaco/lib/python3.8/site-packages/robosuite/wrappers/domain_randomization_wrapper.py?line=251'>252</a>\u001b[0m \u001b[39m\"\"\"\u001b[39;00m\n\u001b[1;32m    <a href='file:///home/surya/miniconda3/envs/jaco/lib/python3.8/site-packages/robosuite/wrappers/domain_randomization_wrapper.py?line=252'>253</a>\u001b[0m \u001b[39mfor\u001b[39;00m modder \u001b[39min\u001b[39;00m \u001b[39mself\u001b[39m\u001b[39m.\u001b[39mmodders:\n\u001b[0;32m--> <a href='file:///home/surya/miniconda3/envs/jaco/lib/python3.8/site-packages/robosuite/wrappers/domain_randomization_wrapper.py?line=253'>254</a>\u001b[0m     modder\u001b[39m.\u001b[39;49mrandomize()\n",
      "File \u001b[0;32m~/miniconda3/envs/jaco/lib/python3.8/site-packages/robosuite/utils/mjmod.py:917\u001b[0m, in \u001b[0;36mTextureModder.randomize\u001b[0;34m(self)\u001b[0m\n\u001b[1;32m    <a href='file:///home/surya/miniconda3/envs/jaco/lib/python3.8/site-packages/robosuite/utils/mjmod.py?line=913'>914</a>\u001b[0m \u001b[39mfor\u001b[39;00m name \u001b[39min\u001b[39;00m \u001b[39mself\u001b[39m\u001b[39m.\u001b[39mgeom_names:\n\u001b[1;32m    <a href='file:///home/surya/miniconda3/envs/jaco/lib/python3.8/site-packages/robosuite/utils/mjmod.py?line=914'>915</a>\u001b[0m     \u001b[39mif\u001b[39;00m \u001b[39mself\u001b[39m\u001b[39m.\u001b[39m_check_geom_for_texture(name):\n\u001b[1;32m    <a href='file:///home/surya/miniconda3/envs/jaco/lib/python3.8/site-packages/robosuite/utils/mjmod.py?line=915'>916</a>\u001b[0m         \u001b[39m# geom has valid texture that can be randomized\u001b[39;00m\n\u001b[0;32m--> <a href='file:///home/surya/miniconda3/envs/jaco/lib/python3.8/site-packages/robosuite/utils/mjmod.py?line=916'>917</a>\u001b[0m         \u001b[39mself\u001b[39;49m\u001b[39m.\u001b[39;49m_randomize_texture(name)\n\u001b[1;32m    <a href='file:///home/surya/miniconda3/envs/jaco/lib/python3.8/site-packages/robosuite/utils/mjmod.py?line=917'>918</a>\u001b[0m         \u001b[39m# randomize material if requested\u001b[39;00m\n\u001b[1;32m    <a href='file:///home/surya/miniconda3/envs/jaco/lib/python3.8/site-packages/robosuite/utils/mjmod.py?line=918'>919</a>\u001b[0m         \u001b[39mif\u001b[39;00m \u001b[39mself\u001b[39m\u001b[39m.\u001b[39mrandomize_material:\n",
      "File \u001b[0;32m~/miniconda3/envs/jaco/lib/python3.8/site-packages/robosuite/utils/mjmod.py:951\u001b[0m, in \u001b[0;36mTextureModder._randomize_texture\u001b[0;34m(self, name)\u001b[0m\n\u001b[1;32m    <a href='file:///home/surya/miniconda3/envs/jaco/lib/python3.8/site-packages/robosuite/utils/mjmod.py?line=948'>949</a>\u001b[0m keys \u001b[39m=\u001b[39m \u001b[39mlist\u001b[39m(\u001b[39mself\u001b[39m\u001b[39m.\u001b[39m_texture_variation_callbacks\u001b[39m.\u001b[39mkeys())\n\u001b[1;32m    <a href='file:///home/surya/miniconda3/envs/jaco/lib/python3.8/site-packages/robosuite/utils/mjmod.py?line=949'>950</a>\u001b[0m choice \u001b[39m=\u001b[39m keys[\u001b[39mself\u001b[39m\u001b[39m.\u001b[39mrandom_state\u001b[39m.\u001b[39mrandint(\u001b[39mlen\u001b[39m(keys))]\n\u001b[0;32m--> <a href='file:///home/surya/miniconda3/envs/jaco/lib/python3.8/site-packages/robosuite/utils/mjmod.py?line=950'>951</a>\u001b[0m \u001b[39mself\u001b[39;49m\u001b[39m.\u001b[39;49m_texture_variation_callbacks[choice](name)\n",
      "File \u001b[0;32m~/miniconda3/envs/jaco/lib/python3.8/site-packages/robosuite/utils/mjmod.py:977\u001b[0m, in \u001b[0;36mTextureModder.rand_checker\u001b[0;34m(self, name)\u001b[0m\n\u001b[1;32m    <a href='file:///home/surya/miniconda3/envs/jaco/lib/python3.8/site-packages/robosuite/utils/mjmod.py?line=969'>970</a>\u001b[0m \u001b[39m\"\"\"\u001b[39;00m\n\u001b[1;32m    <a href='file:///home/surya/miniconda3/envs/jaco/lib/python3.8/site-packages/robosuite/utils/mjmod.py?line=970'>971</a>\u001b[0m \u001b[39mGenerates a random checker pattern for a specific geom\u001b[39;00m\n\u001b[1;32m    <a href='file:///home/surya/miniconda3/envs/jaco/lib/python3.8/site-packages/robosuite/utils/mjmod.py?line=971'>972</a>\u001b[0m \n\u001b[1;32m    <a href='file:///home/surya/miniconda3/envs/jaco/lib/python3.8/site-packages/robosuite/utils/mjmod.py?line=972'>973</a>\u001b[0m \u001b[39mArgs:\u001b[39;00m\n\u001b[1;32m    <a href='file:///home/surya/miniconda3/envs/jaco/lib/python3.8/site-packages/robosuite/utils/mjmod.py?line=973'>974</a>\u001b[0m \u001b[39m    name (str): Name of the geom to randomize for\u001b[39;00m\n\u001b[1;32m    <a href='file:///home/surya/miniconda3/envs/jaco/lib/python3.8/site-packages/robosuite/utils/mjmod.py?line=974'>975</a>\u001b[0m \u001b[39m\"\"\"\u001b[39;00m\n\u001b[1;32m    <a href='file:///home/surya/miniconda3/envs/jaco/lib/python3.8/site-packages/robosuite/utils/mjmod.py?line=975'>976</a>\u001b[0m rgb1, rgb2 \u001b[39m=\u001b[39m \u001b[39mself\u001b[39m\u001b[39m.\u001b[39mget_rand_rgb(\u001b[39m2\u001b[39m)\n\u001b[0;32m--> <a href='file:///home/surya/miniconda3/envs/jaco/lib/python3.8/site-packages/robosuite/utils/mjmod.py?line=976'>977</a>\u001b[0m \u001b[39mself\u001b[39;49m\u001b[39m.\u001b[39;49mset_checker(name, rgb1, rgb2, perturb\u001b[39m=\u001b[39;49m\u001b[39mself\u001b[39;49m\u001b[39m.\u001b[39;49mrandomize_local)\n",
      "File \u001b[0;32m~/miniconda3/envs/jaco/lib/python3.8/site-packages/robosuite/utils/mjmod.py:1171\u001b[0m, in \u001b[0;36mTextureModder.set_checker\u001b[0;34m(self, name, rgb1, rgb2, perturb)\u001b[0m\n\u001b[1;32m   <a href='file:///home/surya/miniconda3/envs/jaco/lib/python3.8/site-packages/robosuite/utils/mjmod.py?line=1168'>1169</a>\u001b[0m rgb1 \u001b[39m=\u001b[39m np\u001b[39m.\u001b[39masarray(rgb1)\u001b[39m.\u001b[39mreshape([\u001b[39m1\u001b[39m, \u001b[39m1\u001b[39m, \u001b[39m-\u001b[39m\u001b[39m1\u001b[39m])\n\u001b[1;32m   <a href='file:///home/surya/miniconda3/envs/jaco/lib/python3.8/site-packages/robosuite/utils/mjmod.py?line=1169'>1170</a>\u001b[0m rgb2 \u001b[39m=\u001b[39m np\u001b[39m.\u001b[39masarray(rgb2)\u001b[39m.\u001b[39mreshape([\u001b[39m1\u001b[39m, \u001b[39m1\u001b[39m, \u001b[39m-\u001b[39m\u001b[39m1\u001b[39m])\n\u001b[0;32m-> <a href='file:///home/surya/miniconda3/envs/jaco/lib/python3.8/site-packages/robosuite/utils/mjmod.py?line=1170'>1171</a>\u001b[0m bitmap \u001b[39m=\u001b[39m rgb1 \u001b[39m*\u001b[39m cbd1 \u001b[39m+\u001b[39m rgb2 \u001b[39m*\u001b[39;49m cbd2\n\u001b[1;32m   <a href='file:///home/surya/miniconda3/envs/jaco/lib/python3.8/site-packages/robosuite/utils/mjmod.py?line=1172'>1173</a>\u001b[0m \u001b[39mself\u001b[39m\u001b[39m.\u001b[39mset_texture(name, bitmap, perturb\u001b[39m=\u001b[39mperturb)\n",
      "\u001b[0;31mKeyboardInterrupt\u001b[0m: "
     ]
    }
   ],
   "source": [
    "for r in robots:\n",
    "    print(\"Robot:\",r)\n",
    "    robot=render()\n",
    "    print(\"TRAINING DATA:\")\n",
    "    robot.randomAction(robot=r,render=False,frames=frames,debug=False,tests=1,save_path=f\"./forregression\")\n",
    "    print(\"TESTING DATA:\")\n",
    "    robot.randomAction(robot=r,render=False,frames=frames,debug=False,tests=1,save_path=f\"./robotvideos_test\")"
   ]
  },
  {
   "cell_type": "code",
   "execution_count": 4,
   "metadata": {},
   "outputs": [
    {
     "name": "stderr",
     "output_type": "stream",
     "text": [
      "100%|██████████| 200/200 [44:10<00:00, 13.25s/it]\n"
     ]
    }
   ],
   "source": [
    "datasize=200\n",
    "robot=render()\n",
    "robot.randomAction(robot=\"Jaco\",render=False,frames=frames,debug=False,tests=datasize,save_path=f\"./regression_training\")"
   ]
  },
  {
   "cell_type": "code",
   "execution_count": null,
   "metadata": {},
   "outputs": [],
   "source": [
    "robot=render()\n",
    "robot.randomAction(robot=robots[1],render=False,frames=frames,debug=False,tests=3,save_path=f\"./forregression\",startindex=25)\n"
   ]
  },
  {
   "cell_type": "code",
   "execution_count": 8,
   "metadata": {},
   "outputs": [],
   "source": [
    "from tqdm import tqdm"
   ]
  },
  {
   "cell_type": "code",
   "execution_count": 11,
   "metadata": {},
   "outputs": [
    {
     "name": "stderr",
     "output_type": "stream",
     "text": [
      "\r\n",
      "  0%|                                            | 0/4 [00:00<?, ?it/s]"
     ]
    },
    {
     "name": "stdout",
     "output_type": "stream",
     "text": [
      "TRAINING DATA:\n"
     ]
    },
    {
     "name": "stderr",
     "output_type": "stream",
     "text": [
      "\n",
      "  0%|                                           | 0/20 [00:00<?, ?it/s]\u001b[A\n",
      "  5%|█▊                                 | 1/20 [00:10<03:14, 10.26s/it]\u001b[A\n",
      " 10%|███▌                               | 2/20 [00:22<03:23, 11.30s/it]\u001b[A\n",
      " 15%|█████▎                             | 3/20 [00:31<02:57, 10.45s/it]\u001b[A\n",
      " 20%|███████                            | 4/20 [00:43<02:58, 11.14s/it]\u001b[A\n",
      " 25%|████████▊                          | 5/20 [00:55<02:51, 11.46s/it]\u001b[A\n",
      " 30%|██████████▌                        | 6/20 [01:06<02:35, 11.11s/it]\u001b[A\n",
      " 35%|████████████▎                      | 7/20 [01:19<02:31, 11.64s/it]\u001b[A\n",
      " 40%|██████████████                     | 8/20 [01:29<02:13, 11.15s/it]\u001b[A\n",
      " 45%|███████████████▊                   | 9/20 [01:41<02:07, 11.55s/it]\u001b[A\n",
      " 50%|█████████████████                 | 10/20 [01:53<01:57, 11.77s/it]\u001b[A\n",
      " 55%|██████████████████▋               | 11/20 [02:04<01:41, 11.32s/it]\u001b[A\n",
      " 60%|████████████████████▍             | 12/20 [02:17<01:34, 11.80s/it]\u001b[A\n",
      " 65%|██████████████████████            | 13/20 [02:26<01:17, 11.05s/it]\u001b[A\n",
      " 70%|███████████████████████▊          | 14/20 [02:38<01:08, 11.46s/it]\u001b[A\n",
      " 75%|█████████████████████████▌        | 15/20 [02:50<00:57, 11.46s/it]\u001b[A\n",
      " 80%|███████████████████████████▏      | 16/20 [03:00<00:44, 11.01s/it]\u001b[A\n",
      " 85%|████████████████████████████▉     | 17/20 [03:12<00:33, 11.27s/it]\u001b[A\n",
      " 90%|██████████████████████████████▌   | 18/20 [03:21<00:21, 10.83s/it]\u001b[A\n",
      " 95%|████████████████████████████████▎ | 19/20 [03:34<00:11, 11.28s/it]\u001b[A\n",
      "100%|██████████████████████████████████| 20/20 [03:45<00:00, 11.28s/it]\u001b[A\n",
      " 25%|████████▊                          | 1/4 [03:48<11:24, 228.14s/it]"
     ]
    },
    {
     "name": "stdout",
     "output_type": "stream",
     "text": [
      "TRAINING DATA:\n"
     ]
    },
    {
     "name": "stderr",
     "output_type": "stream",
     "text": [
      "\n",
      "  0%|                                           | 0/20 [00:00<?, ?it/s]\u001b[A\n",
      "  5%|█▊                                 | 1/20 [00:14<04:44, 14.96s/it]\u001b[A\n",
      " 10%|███▌                               | 2/20 [00:32<04:54, 16.34s/it]\u001b[A\n",
      " 15%|█████▎                             | 3/20 [00:46<04:25, 15.60s/it]\u001b[A\n",
      " 20%|███████                            | 4/20 [01:04<04:23, 16.49s/it]\u001b[A\n",
      " 25%|████████▊                          | 5/20 [01:21<04:08, 16.58s/it]\u001b[A\n",
      " 30%|██████████▌                        | 6/20 [01:37<03:47, 16.22s/it]\u001b[A\n",
      " 35%|████████████▎                      | 7/20 [01:54<03:34, 16.53s/it]\u001b[A\n",
      " 40%|██████████████                     | 8/20 [02:08<03:09, 15.82s/it]\u001b[A\n",
      " 45%|███████████████▊                   | 9/20 [02:25<02:56, 16.08s/it]\u001b[A\n",
      " 50%|█████████████████                 | 10/20 [02:40<02:38, 15.89s/it]\u001b[A\n",
      " 55%|██████████████████▋               | 11/20 [02:55<02:19, 15.51s/it]\u001b[A\n",
      " 60%|████████████████████▍             | 12/20 [03:11<02:05, 15.74s/it]\u001b[A\n",
      " 65%|██████████████████████            | 13/20 [03:26<01:49, 15.61s/it]\u001b[A\n",
      " 70%|███████████████████████▊          | 14/20 [03:44<01:37, 16.22s/it]\u001b[A\n",
      " 75%|█████████████████████████▌        | 15/20 [04:01<01:22, 16.43s/it]\u001b[A\n",
      " 80%|███████████████████████████▏      | 16/20 [04:15<01:02, 15.75s/it]\u001b[A\n",
      " 85%|████████████████████████████▉     | 17/20 [04:31<00:47, 15.90s/it]\u001b[A\n",
      " 90%|██████████████████████████████▌   | 18/20 [04:47<00:31, 15.71s/it]\u001b[A\n",
      " 95%|████████████████████████████████▎ | 19/20 [05:04<00:16, 16.18s/it]\u001b[A\n",
      "100%|██████████████████████████████████| 20/20 [05:20<00:00, 16.01s/it]\u001b[A\n",
      " 50%|█████████████████▌                 | 2/4 [09:11<09:27, 283.89s/it]"
     ]
    },
    {
     "name": "stdout",
     "output_type": "stream",
     "text": [
      "TRAINING DATA:\n"
     ]
    },
    {
     "name": "stderr",
     "output_type": "stream",
     "text": [
      "\n",
      "  0%|                                           | 0/20 [00:00<?, ?it/s]\u001b[A\n",
      "  5%|█▊                                 | 1/20 [00:11<03:29, 11.04s/it]\u001b[A\n",
      " 10%|███▌                               | 2/20 [00:24<03:40, 12.22s/it]\u001b[A\n",
      " 15%|█████▎                             | 3/20 [00:34<03:16, 11.53s/it]\u001b[A\n",
      " 20%|███████                            | 4/20 [00:47<03:12, 12.04s/it]\u001b[A\n",
      " 25%|████████▊                          | 5/20 [00:59<03:00, 12.05s/it]\u001b[A\n",
      " 30%|██████████▌                        | 6/20 [01:10<02:40, 11.50s/it]\u001b[A\n",
      " 35%|████████████▎                      | 7/20 [01:23<02:36, 12.07s/it]\u001b[A\n",
      " 40%|██████████████                     | 8/20 [01:34<02:20, 11.68s/it]\u001b[A\n",
      " 45%|███████████████▊                   | 9/20 [01:46<02:11, 11.92s/it]\u001b[A\n",
      " 50%|█████████████████                 | 10/20 [01:58<01:58, 11.83s/it]\u001b[A\n",
      " 55%|██████████████████▋               | 11/20 [02:09<01:45, 11.72s/it]\u001b[A\n",
      " 60%|████████████████████▍             | 12/20 [02:22<01:36, 12.12s/it]\u001b[A\n",
      " 65%|██████████████████████            | 13/20 [02:33<01:21, 11.68s/it]\u001b[A\n",
      " 70%|███████████████████████▊          | 14/20 [02:47<01:13, 12.31s/it]\u001b[A\n",
      " 75%|█████████████████████████▌        | 15/20 [03:00<01:02, 12.48s/it]\u001b[A\n",
      " 80%|███████████████████████████▏      | 16/20 [03:10<00:47, 11.92s/it]\u001b[A\n",
      " 85%|████████████████████████████▉     | 17/20 [03:23<00:36, 12.30s/it]\u001b[A\n",
      " 90%|██████████████████████████████▌   | 18/20 [03:34<00:23, 11.67s/it]\u001b[A\n",
      " 95%|████████████████████████████████▎ | 19/20 [03:46<00:11, 11.98s/it]\u001b[A\n",
      "100%|██████████████████████████████████| 20/20 [03:58<00:00, 11.94s/it]\u001b[A\n",
      " 75%|██████████████████████████▎        | 3/4 [13:12<04:24, 264.45s/it]"
     ]
    },
    {
     "name": "stdout",
     "output_type": "stream",
     "text": [
      "TRAINING DATA:\n"
     ]
    },
    {
     "name": "stderr",
     "output_type": "stream",
     "text": [
      "\n",
      "  0%|                                           | 0/20 [00:00<?, ?it/s]\u001b[A\n",
      "  5%|█▊                                 | 1/20 [00:11<03:40, 11.58s/it]\u001b[A\n",
      " 10%|███▌                               | 2/20 [00:24<03:40, 12.25s/it]\u001b[A\n",
      " 15%|█████▎                             | 3/20 [00:34<03:09, 11.17s/it]\u001b[A\n",
      " 20%|███████                            | 4/20 [00:46<03:08, 11.79s/it]\u001b[A\n",
      " 25%|████████▊                          | 5/20 [00:58<02:56, 11.79s/it]\u001b[A\n",
      " 30%|██████████▌                        | 6/20 [01:08<02:36, 11.16s/it]\u001b[A\n",
      " 35%|████████████▎                      | 7/20 [01:21<02:33, 11.81s/it]\u001b[A\n",
      " 40%|██████████████                     | 8/20 [01:33<02:21, 11.75s/it]\u001b[A\n",
      " 45%|███████████████▊                   | 9/20 [01:46<02:14, 12.20s/it]\u001b[A\n",
      " 50%|█████████████████                 | 10/20 [01:58<02:00, 12.03s/it]\u001b[A\n",
      " 55%|██████████████████▋               | 11/20 [02:08<01:43, 11.46s/it]\u001b[A\n",
      " 60%|████████████████████▍             | 12/20 [02:20<01:34, 11.79s/it]\u001b[A\n",
      " 65%|██████████████████████            | 13/20 [02:31<01:20, 11.43s/it]\u001b[A\n",
      " 70%|███████████████████████▊          | 14/20 [02:44<01:11, 11.89s/it]\u001b[A\n",
      " 75%|█████████████████████████▌        | 15/20 [02:56<00:59, 11.93s/it]\u001b[A\n",
      " 80%|███████████████████████████▏      | 16/20 [03:07<00:46, 11.64s/it]\u001b[A\n",
      " 85%|████████████████████████████▉     | 17/20 [03:20<00:35, 11.94s/it]\u001b[A\n",
      " 90%|██████████████████████████████▌   | 18/20 [03:31<00:23, 11.66s/it]\u001b[A\n",
      " 95%|████████████████████████████████▎ | 19/20 [03:43<00:11, 11.88s/it]\u001b[A\n",
      "100%|██████████████████████████████████| 20/20 [03:55<00:00, 11.78s/it]\u001b[A\n",
      "100%|███████████████████████████████████| 4/4 [17:10<00:00, 257.63s/it]\n"
     ]
    }
   ],
   "source": [
    "trainingsize=20\n",
    "start=0\n",
    "for i in tqdm(range(4)):\n",
    "    robot=render()\n",
    "    print(\"TRAINING DATA:\")\n",
    "    robot.randomAction(robot=robots[i],render=False,frames=frames,debug=False,tests=trainingsize,save_path=f\"./forregression\",startindex=start)\n",
    "    start=start+trainingsize"
   ]
  },
  {
   "cell_type": "code",
   "execution_count": null,
   "metadata": {},
   "outputs": [],
   "source": []
  }
 ],
 "metadata": {
  "interpreter": {
   "hash": "4936e5f0261a2e7a098afdfc15cd8b3cb22a447473a707c8ad121a06dfc0f60e"
  },
  "kernelspec": {
   "display_name": "Python 3 (ipykernel)",
   "language": "python",
   "name": "python3"
  },
  "language_info": {
   "codemirror_mode": {
    "name": "ipython",
    "version": 3
   },
   "file_extension": ".py",
   "mimetype": "text/x-python",
   "name": "python",
   "nbconvert_exporter": "python",
   "pygments_lexer": "ipython3",
   "version": "3.8.0"
  }
 },
 "nbformat": 4,
 "nbformat_minor": 2
}
