{
 "cells": [
  {
   "cell_type": "code",
   "execution_count": 1,
   "metadata": {},
   "outputs": [
    {
     "name": "stdout",
     "output_type": "stream",
     "text": [
      "Unable to load module hid, required to interface with SpaceMouse.\n",
      "\n",
      "           Only Mac OS X is officially supported. Install the additional\n",
      "\n",
      "           requirements with `pip install -r requirements-extra.txt`\n",
      "Warning: make sure gym is installed if you want to use the GymWrapper.\n"
     ]
    }
   ],
   "source": [
    "from simulator.sim import render\n",
    "frames=120\n",
    "\n",
    "datasize=5\n",
    "robot=render()\n",
    "\n",
    "import numpy as np\n",
    "from tqdm import tqdm"
   ]
  },
  {
   "cell_type": "code",
   "execution_count": 2,
   "metadata": {},
   "outputs": [],
   "source": [
    "video=np.load(\"./imitatetesting/video_0.npy\")"
   ]
  },
  {
   "cell_type": "code",
   "execution_count": 3,
   "metadata": {},
   "outputs": [],
   "source": [
    "import torch\n",
    "from ImiTCN.regressionmodel import create_model, define_model\n",
    "from ImiTCN.util import _resize_frame,read_video"
   ]
  },
  {
   "cell_type": "code",
   "execution_count": 4,
   "metadata": {},
   "outputs": [
    {
     "data": {
      "text/plain": [
       "<All keys matched successfully>"
      ]
     },
     "execution_count": 4,
     "metadata": {},
     "output_type": "execute_result"
    }
   ],
   "source": [
    "#loading TCN model\n",
    "tcndir=\"tcn-epoch-100.pk\"\n",
    "tcn=define_model(True)\n",
    "tcn.load_state_dict(torch.load(tcndir, map_location=lambda storage, loc: storage))"
   ]
  },
  {
   "cell_type": "code",
   "execution_count": 5,
   "metadata": {},
   "outputs": [],
   "source": [
    "model= create_model(tcndir,False)"
   ]
  },
  {
   "cell_type": "code",
   "execution_count": 6,
   "metadata": {},
   "outputs": [],
   "source": [
    "regdir=\"imiTCN-epoch-27_1100.pk\""
   ]
  },
  {
   "cell_type": "code",
   "execution_count": 7,
   "metadata": {},
   "outputs": [
    {
     "data": {
      "text/plain": [
       "<All keys matched successfully>"
      ]
     },
     "execution_count": 7,
     "metadata": {},
     "output_type": "execute_result"
    }
   ],
   "source": [
    "model.load_state_dict(torch.load(regdir,map_location=lambda storage, loc: storage))"
   ]
  },
  {
   "cell_type": "code",
   "execution_count": 8,
   "metadata": {},
   "outputs": [],
   "source": [
    "idx=[0,25,44,66]"
   ]
  },
  {
   "cell_type": "code",
   "execution_count": 18,
   "metadata": {},
   "outputs": [
    {
     "name": "stderr",
     "output_type": "stream",
     "text": [
      "100%|██████████| 4/4 [00:16<00:00,  4.18s/it]\n"
     ]
    }
   ],
   "source": [
    "videosactual=[]\n",
    "framesize=(299,299)\n",
    "for i in tqdm(range(4)):\n",
    "    videosactual.append(torch.from_numpy(read_video(f\"./imitatetesting/video_{idx[i]}.npy\",framesize)).float())"
   ]
  },
  {
   "cell_type": "code",
   "execution_count": 19,
   "metadata": {},
   "outputs": [
    {
     "name": "stderr",
     "output_type": "stream",
     "text": [
      "100%|██████████| 4/4 [00:00<00:00, 1325.01it/s]\n"
     ]
    }
   ],
   "source": [
    "jointsactual=[]\n",
    "for i in tqdm(range(4)):\n",
    "    jointsactual.append(np.load(f\"./imitatetesting/joint_{idx[i]}.npy\"))"
   ]
  },
  {
   "cell_type": "code",
   "execution_count": 20,
   "metadata": {},
   "outputs": [
    {
     "name": "stderr",
     "output_type": "stream",
     "text": [
      "100%|██████████| 4/4 [00:39<00:00,  9.94s/it]\n"
     ]
    }
   ],
   "source": [
    "jointspred=[]\n",
    "for video in tqdm(videosactual):\n",
    "    jointspred.append(model(video).detach().numpy())"
   ]
  },
  {
   "cell_type": "code",
   "execution_count": 25,
   "metadata": {},
   "outputs": [
    {
     "data": {
      "text/plain": [
       "4"
      ]
     },
     "execution_count": 25,
     "metadata": {},
     "output_type": "execute_result"
    }
   ],
   "source": []
  },
  {
   "cell_type": "code",
   "execution_count": 30,
   "metadata": {},
   "outputs": [
    {
     "name": "stderr",
     "output_type": "stream",
     "text": [
      "  0%|          | 0/4 [00:00<?, ?it/s]"
     ]
    },
    {
     "name": "stdout",
     "output_type": "stream",
     "text": [
      "jere\n"
     ]
    },
    {
     "name": "stderr",
     "output_type": "stream",
     "text": [
      " 25%|██▌       | 1/4 [00:14<00:42, 14.31s/it]"
     ]
    },
    {
     "name": "stdout",
     "output_type": "stream",
     "text": [
      "jere\n"
     ]
    },
    {
     "name": "stderr",
     "output_type": "stream",
     "text": [
      " 50%|█████     | 2/4 [00:28<00:28, 14.05s/it]"
     ]
    },
    {
     "name": "stdout",
     "output_type": "stream",
     "text": [
      "jere\n"
     ]
    },
    {
     "name": "stderr",
     "output_type": "stream",
     "text": [
      " 75%|███████▌  | 3/4 [00:41<00:13, 13.94s/it]"
     ]
    },
    {
     "name": "stdout",
     "output_type": "stream",
     "text": [
      "jere\n"
     ]
    },
    {
     "name": "stderr",
     "output_type": "stream",
     "text": [
      "100%|██████████| 4/4 [00:55<00:00, 13.87s/it]\n"
     ]
    }
   ],
   "source": [
    "from tqdm import tqdm\n",
    "videosreplicate=[]\n",
    "for joints in tqdm(jointspred):\n",
    "    print(\"jere\")\n",
    "    robot=render()\n",
    "    videoreplicate=robot.replayAction(joints,render=False,robot=\"Jaco\")\n",
    "    videosreplicate.append(videoreplicate)\n"
   ]
  },
  {
   "cell_type": "code",
   "execution_count": 31,
   "metadata": {},
   "outputs": [
    {
     "name": "stdout",
     "output_type": "stream",
     "text": [
      "[ 0.03280418 -0.10929425 -0.02224462 -0.0656509  -0.02209486 -0.03546015\n",
      " -0.06727149]\n",
      "[ 0.03280418 -0.10929425 -0.02224462 -0.0656509  -0.02209486 -0.03546015\n",
      " -0.06727149]\n",
      "[ 0.17905015  0.26739473 -0.21792327  0.03384422 -0.22718343  0.18409774\n",
      " -0.12992964]\n"
     ]
    }
   ],
   "source": [
    "print(jointspred[0][111])\n",
    "print(jointspred[1][111])\n",
    "print(jointsactual[1][111])"
   ]
  },
  {
   "cell_type": "code",
   "execution_count": 32,
   "metadata": {},
   "outputs": [],
   "source": [
    "from PIL import Image\n",
    "import scipy"
   ]
  },
  {
   "cell_type": "code",
   "execution_count": 33,
   "metadata": {},
   "outputs": [],
   "source": [
    "i=0\n",
    "for video in videosreplicate:\n",
    "    i+=1\n",
    "    imgs = [Image.fromarray(scipy.ndimage.rotate(img,180)) for img in np.array(video)]\n",
    "    imgs[0].save(f\"forpresentation/imitate_{i}.gif\", save_all=True, append_images=imgs[1:], duration=65, loop=0)"
   ]
  },
  {
   "cell_type": "code",
   "execution_count": 35,
   "metadata": {},
   "outputs": [
    {
     "name": "stderr",
     "output_type": "stream",
     "text": [
      "100%|██████████| 4/4 [00:00<00:00, 117.22it/s]\n"
     ]
    }
   ],
   "source": [
    "\n",
    "\n",
    "videosactual=[]\n",
    "framesize=(299,299)\n",
    "for i in tqdm(range(4)):\n",
    "    videosactual.append(np.load(f\"./imitatetesting/video_{idx[i]}.npy\"))\n",
    "i=0\n",
    "for video in videosactual:\n",
    "    i+=1\n",
    "    imgs = [Image.fromarray(scipy.ndimage.rotate(img,180)) for img in np.array(video)]\n",
    "    imgs[0].save(f\"forpresentation/actual_{i}.gif\", save_all=True, append_images=imgs[1:], duration=65, loop=0)"
   ]
  },
  {
   "cell_type": "code",
   "execution_count": 34,
   "metadata": {},
   "outputs": [],
   "source": [
    "robots=[\"Jaco\",\"IIWA\",\"Panda\",\"Sawyer\"]\n",
    "videostrain=[]\n",
    "for robot in robots:\n",
    "    videostrain.append(np.load(f\"./robotvideos_train/{robot}/video_5.npy\"))\n",
    "\n",
    "\n",
    "\n",
    "i=0\n",
    "for video in videostrain:\n",
    "    i+=1\n",
    "    imgs = [Image.fromarray(scipy.ndimage.rotate(img,180)) for img in np.array(video)]\n",
    "    imgs[0].save(f\"forpresentation/train_{i}.gif\", save_all=True, append_images=imgs[1:], duration=65, loop=0)"
   ]
  },
  {
   "cell_type": "code",
   "execution_count": 36,
   "metadata": {},
   "outputs": [],
   "source": [
    "\n",
    "robot=render()\n",
    "videoimitateideal=robot.replayAction(jointsactual[0],render=False,robot=\"IIWA\")\n",
    "imgs = [Image.fromarray(scipy.ndimage.rotate(img,180)) for img in np.array(videoimitateideal)]\n",
    "imgs[0].save(f\"forpresentation/ideal_1.gif\", save_all=True, append_images=imgs[1:], duration=65, loop=0)"
   ]
  },
  {
   "cell_type": "code",
   "execution_count": null,
   "metadata": {},
   "outputs": [],
   "source": []
  }
 ],
 "metadata": {
  "interpreter": {
   "hash": "4936e5f0261a2e7a098afdfc15cd8b3cb22a447473a707c8ad121a06dfc0f60e"
  },
  "kernelspec": {
   "display_name": "Python 3.8.0 ('jaco')",
   "language": "python",
   "name": "python3"
  },
  "language_info": {
   "codemirror_mode": {
    "name": "ipython",
    "version": 3
   },
   "file_extension": ".py",
   "mimetype": "text/x-python",
   "name": "python",
   "nbconvert_exporter": "python",
   "pygments_lexer": "ipython3",
   "version": "3.8.0"
  },
  "orig_nbformat": 4
 },
 "nbformat": 4,
 "nbformat_minor": 2
}
